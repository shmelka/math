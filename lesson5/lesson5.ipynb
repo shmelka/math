{
 "cells": [
  {
   "cell_type": "code",
   "execution_count": 3,
   "metadata": {},
   "outputs": [],
   "source": [
    "#Напишите код, моделирующий выпадение поля в рулетке (с учетом поля зеро).\n",
    "import random"
   ]
  },
  {
   "cell_type": "code",
   "execution_count": 4,
   "metadata": {},
   "outputs": [
    {
     "name": "stdout",
     "output_type": "stream",
     "text": [
      "Для выхода введите \"q\". Для продолжения \"Enter\"\n",
      "Выпало число:  25\n",
      "Для выхода введите \"q\". Для продолжения \"Enter\"\n",
      "Выпало число:  18\n",
      "Для выхода введите \"q\". Для продолжения \"Enter\"\n",
      "Выпало число:  25\n",
      "Для выхода введите \"q\". Для продолжения \"Enter\"\n",
      "Выпало число:  20\n",
      "Для выхода введите \"q\". Для продолжения \"Enter\"\n",
      "Выпало число:  16\n",
      "Для выхода введите \"q\". Для продолжения \"Enter\"q\n"
     ]
    }
   ],
   "source": [
    "while True:\n",
    "    i = input('Для выхода введите \"q\". Для продолжения \"Enter\"')\n",
    "    if i.lower() == 'q':\n",
    "        break\n",
    "    print('Выпало число: ', random.randint(0, 36))"
   ]
  }
 ],
 "metadata": {
  "kernelspec": {
   "display_name": "Python 3",
   "language": "python",
   "name": "python3"
  },
  "language_info": {
   "codemirror_mode": {
    "name": "ipython",
    "version": 3
   },
   "file_extension": ".py",
   "mimetype": "text/x-python",
   "name": "python",
   "nbconvert_exporter": "python",
   "pygments_lexer": "ipython3",
   "version": "3.7.3"
  }
 },
 "nbformat": 4,
 "nbformat_minor": 2
}
