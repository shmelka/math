{
 "cells": [
  {
   "cell_type": "code",
   "execution_count": 3,
   "metadata": {},
   "outputs": [],
   "source": [
    "#Напишите код, проверяющий любую из теорем сложения или умножения вероятности на примере рулетки или подбрасывания монетки.\n",
    "#Будем проверять теорему сложения\n",
    "import random"
   ]
  },
  {
   "cell_type": "code",
   "execution_count": 4,
   "metadata": {},
   "outputs": [],
   "source": [
    "#Чётные числа возьмём за красные ячейки, а нечётные за чёрные, 0 будет зелёным"
   ]
  },
  {
   "cell_type": "code",
   "execution_count": 44,
   "metadata": {},
   "outputs": [
    {
     "name": "stdout",
     "output_type": "stream",
     "text": [
      "Вероятность попадания в зелёное поле - 0.03, в красное - 0.47, в чёрное - 0.5, в сумме - 1.0\n"
     ]
    }
   ],
   "source": [
    "z, k, c = 0, 0, 0\n",
    "iteration = 1000\n",
    "current = None\n",
    "for _ in range(0, iteration):\n",
    "    x = random.randint(0, 36)\n",
    "    if x == 0:\n",
    "        current = 'Зелёный'\n",
    "        z += 1\n",
    "    elif x % 2 == 0:\n",
    "        current = 'Красный'\n",
    "        k += 1\n",
    "    else:\n",
    "        current = 'Чёрный'\n",
    "        c += 1\n",
    "    #print(f'Выпало {x}, цвет {current}')\n",
    "#Считаем вероятности выпадения каждого цвета\n",
    "vz = round(z / iteration, 2)\n",
    "vk = round(k / iteration, 2)\n",
    "vc = round(c / iteration, 2)\n",
    "print(f'Вероятность попадания в зелёное поле - {vz}, в красное - {vk}, в чёрное - {vc}, в сумме - {vz + vk + vc}')"
   ]
  }
 ],
 "metadata": {
  "kernelspec": {
   "display_name": "Python 3",
   "language": "python",
   "name": "python3"
  },
  "language_info": {
   "codemirror_mode": {
    "name": "ipython",
    "version": 3
   },
   "file_extension": ".py",
   "mimetype": "text/x-python",
   "name": "python",
   "nbconvert_exporter": "python",
   "pygments_lexer": "ipython3",
   "version": "3.7.3"
  }
 },
 "nbformat": 4,
 "nbformat_minor": 2
}
